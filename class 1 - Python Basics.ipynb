{
 "cells": [
  {
   "cell_type": "markdown",
   "metadata": {
    "collapsed": true
   },
   "source": [
    "This Jupyter notebook is designed to give basic introduction about Python 3."
   ]
  },
  {
   "cell_type": "markdown",
   "metadata": {},
   "source": [
    "BASIC DATA TYPES\n",
    "\n",
    "Like most languages, Python has a number of basic types including integers, floats, booleans, and strings. These data types behave in ways that are familiar from other programming languages.\n",
    "\n",
    "Numbers: Integers and floats work as you would expect from other languages:"
   ]
  },
  {
   "cell_type": "code",
   "execution_count": null,
   "metadata": {
    "scrolled": true
   },
   "outputs": [],
   "source": [
    "# print('Hello World')#print statement\n",
    "# y = input('Enter the value of y')#Giving input values \n",
    "# print('The value of y is =',y)\n",
    "# hello = 'hello'\n",
    "# world = 'world'\n",
    "# print(len(hello))  # String length; prints \"5\"\n",
    "# hw = hello + ' ' + world  # String concatenation\n",
    "# print(hw)  # prints \"hello world\"\n",
    "hw12 = '%s %s %d' % (hello, world, 12)  # sprintf style string formatting\n",
    "print(hw12)  # prints \"hello world 12\""
   ]
  },
  {
   "cell_type": "code",
   "execution_count": null,
   "metadata": {},
   "outputs": [],
   "source": [
    "s = \"hello\"\n",
    "print(s.capitalize())  # Capitalize a string; prints \"Hello\"\n",
    "print(s.upper())       # Convert a string to uppercase; prints \"HELLO\"\n",
    "print(s.rjust(7))      # Right-justify a string, padding with spaces; prints \"  hello\"\n",
    "print(s.center(7))     # Center a string, padding with spaces; prints \" hello \"\n",
    "print(s.replace('l', '(ell)'))  # Replace all instances of one substring with another;\n",
    "                                # prints \"he(ell)(ell)o\"\n",
    "print(s.replace('l','t',1)) # Replacing only one 'l' with 't' and prints 'hetlo'\n",
    "print('  world '.strip())  # Strip leading and trailing whitespace; prints \"world\""
   ]
  },
  {
   "cell_type": "code",
   "execution_count": null,
   "metadata": {},
   "outputs": [],
   "source": [
    "x = 5 #Assiging a value\n",
    "print(x*2) #Prints 10\n",
    "print(x**2) #prints 25\n",
    "x+=5 #Same as x = x + 5\n",
    "print(x)\n",
    "print(5%2)#remainder of the left operand when divided by right - Prints 1"
   ]
  },
  {
   "cell_type": "markdown",
   "metadata": {
    "collapsed": true
   },
   "source": [
    "Note that unlike many languages, Python does not have unary increment (x++) or decrement (x--) operators.\n",
    "Python Documentation link - https://docs.python.org/3.5/library/\n",
    "\n",
    "Booleans: \n",
    "Python implements all of the usual operators for Boolean logic, but uses English words rather than symbols (&&, ||, etc.)"
   ]
  },
  {
   "cell_type": "code",
   "execution_count": null,
   "metadata": {},
   "outputs": [],
   "source": [
    "t = True\n",
    "f = False\n",
    "print(type(t)) # Prints \"<class 'bool'>\"\n",
    "print(t and f) # Logical AND; prints \"False\" - Returns t if t is false or f otherwise\n",
    "print(t or f)  # Logical OR; prints \"True\" - Returns f if t is false ot t otherwise\n",
    "print(not t)   # Logical NOT; prints \"False\" - Negation\n",
    "print(t != f)  # Logical XOR; prints \"True\""
   ]
  },
  {
   "cell_type": "markdown",
   "metadata": {},
   "source": [
    "CONTAINERS\n",
    "Python includes several built-in container types: lists, dictionaries, sets, and tuples.\n",
    "\n",
    "LISTS\n",
    "A list is the Python equivalent of an array, but is resizeable and can contain elements of different types:"
   ]
  },
  {
   "cell_type": "code",
   "execution_count": null,
   "metadata": {},
   "outputs": [],
   "source": [
    "xs = [3, 1, 2]    # Create a list\n",
    "print(xs, xs[2])  # Prints \"[3, 1, 2] 2\"\n",
    "print(xs[-1])     # Negative indices count from the end of the list; prints \"2\"\n",
    "xs[2] = 'foo'     # Lists can contain elements of different types\n",
    "print(xs)         # Prints \"[3, 1, 'foo']\"\n",
    "xs.append('bar')  # Add a new element to the end of the list\n",
    "print(xs)         # Prints \"[3, 1, 'foo', 'bar']\"\n",
    "x = xs.pop()      # Remove and return the last element of the list\n",
    "print(x, xs)      # Prints \"bar [3, 1, 'foo']\""
   ]
  },
  {
   "cell_type": "markdown",
   "metadata": {},
   "source": [
    "Slicing: In addition to accessing list elements one at a time, Python provides concise syntax to access sublists; this is known as slicing:"
   ]
  },
  {
   "cell_type": "code",
   "execution_count": null,
   "metadata": {},
   "outputs": [],
   "source": [
    "nums = list(range(5))     # range is a built-in function that creates a list of integers\n",
    "print(nums)               # Prints \"[0, 1, 2, 3, 4]\"\n",
    "print(nums[2:4])          # Get a slice from index 2 to 4 (exclusive); prints \"[2, 3]\"\n",
    "print(nums[2:])           # Get a slice from index 2 to the end; prints \"[2, 3, 4]\"\n",
    "print(nums[:2])           # Get a slice from the start to index 2 (exclusive); prints \"[0, 1]\"\n",
    "print(nums[:])            # Get a slice of the whole list; prints \"[0, 1, 2, 3, 4]\"\n",
    "print(nums[:-1])          # Slice indices can be negative; prints \"[0, 1, 2, 3]\"\n",
    "nums[2:4] = [8, 9]        # Assign a new sublist to a slice\n",
    "print(nums)               # Prints \"[0, 1, 8, 9, 4]\""
   ]
  },
  {
   "cell_type": "markdown",
   "metadata": {},
   "source": [
    "Whitespace Formatting - Many languages use curly braces to delimit blocks of code. Python uses Indentation. Indentation makes Python codes readable but user need to be very careful about white space.\n",
    "\n",
    "An Example of Indentation - "
   ]
  },
  {
   "cell_type": "code",
   "execution_count": null,
   "metadata": {},
   "outputs": [],
   "source": [
    "x = list(range(5))\n",
    "for i in x:\n",
    "    print(i)\n",
    "    for j in [6,7,8,9,10]:\n",
    "        print(j)\n",
    "        print(i+j)\n",
    "    print(i)\n",
    "print('Done Looping')"
   ]
  },
  {
   "cell_type": "markdown",
   "metadata": {},
   "source": [
    "Loops: You can loop over the elements of a list like this:"
   ]
  },
  {
   "cell_type": "code",
   "execution_count": null,
   "metadata": {},
   "outputs": [],
   "source": [
    "animals = ['cat', 'dog', 'monkey']\n",
    "for animal in animals:\n",
    "    print(animal)\n",
    "# Prints \"cat\", \"dog\", \"monkey\", each on its own line."
   ]
  },
  {
   "cell_type": "code",
   "execution_count": null,
   "metadata": {},
   "outputs": [],
   "source": [
    "#If you want access to the index of each element within the body of a loop, use the built-in enumerate function:\n",
    "animals = ['cat', 'dog', 'monkey']\n",
    "for idx, animal in enumerate(animals):\n",
    "    print('#%d: %s'% (idx + 1, animal))\n",
    "# Prints \"#1: cat\", \"#2: dog\", \"#3: monkey\", each on its own line"
   ]
  },
  {
   "cell_type": "markdown",
   "metadata": {},
   "source": [
    "List comprehensions: When programming, frequently we want to transform one type of data into another. \n",
    "As a simple example, consider the following code that computes square numbers:"
   ]
  },
  {
   "cell_type": "code",
   "execution_count": null,
   "metadata": {},
   "outputs": [],
   "source": [
    "nums = [0, 1, 2, 3, 4]\n",
    "squares = []\n",
    "for x in nums:\n",
    "    squares.append(x ** 2)\n",
    "print(squares)   # Prints [0, 1, 4, 9, 16]\n",
    "\n",
    "#Another way of representing the same code by using list comprehension\n",
    "nums = [0, 1, 2, 3, 4]\n",
    "squares = [x ** 2 for x in nums]\n",
    "print(squares)   # Prints [0, 1, 4, 9, 16]\n",
    "\n",
    "#List comprehensions can also contain conditions:\n",
    "nums = [0, 1, 2, 3, 4]\n",
    "even_squares = [x ** 2 for x in nums if x % 2 == 0]\n",
    "print(even_squares)  # Prints \"[0, 4, 16]\""
   ]
  },
  {
   "cell_type": "markdown",
   "metadata": {},
   "source": [
    "DICTIONARIES\n",
    "\n",
    "A dictionary stores (key, value) pairs, similar to a Map in Java or an object in Javascript. You can use it like this:"
   ]
  },
  {
   "cell_type": "code",
   "execution_count": null,
   "metadata": {},
   "outputs": [],
   "source": [
    "d = {'cat': 'cute', 'dog': 'furry'}  # Create a new dictionary with some data\n",
    "print(d['cat'])       # Get an entry from a dictionary; prints \"cute\"\n",
    "print('cat' in d)     # Check if a dictionary has a given key; prints \"True\"\n",
    "d['fish'] = 'wet'     # Set an entry in a dictionary\n",
    "print(d['fish'])      # Prints \"wet\"\n",
    "\n",
    "# print(d['monkey'])  # KeyError: 'monkey' not a key of d\n",
    "\n",
    "print(d.get('monkey', 'N/A'))  # Get an element with a default; prints \"N/A\"\n",
    "print(d.get('fish', 'N/A'))    # Get an element with a default; prints \"wet\"\n",
    "del d['fish']         # Remove an element from a dictionary\n",
    "print(d.get('fish', 'N/A')) # \"fish\" is no longer a key; prints \"N/A\""
   ]
  },
  {
   "cell_type": "code",
   "execution_count": null,
   "metadata": {},
   "outputs": [],
   "source": [
    "#LOOP\n",
    "d = {'person': 2, \n",
    "     'cat': 4, \n",
    "     'spider': 8}\n",
    "for animal in d:\n",
    "    legs = d[animal]\n",
    "    print('A %s has %d legs' % (animal, legs))\n",
    "# Prints \"A person has 2 legs\", \"A cat has 4 legs\", \"A spider has 8 legs\""
   ]
  },
  {
   "cell_type": "code",
   "execution_count": null,
   "metadata": {},
   "outputs": [],
   "source": [
    "# If you want access to keys and their corresponding values, use the ITEMS method:\n",
    "d = {'person': 2, \n",
    "     'cat': 4, \n",
    "     'spider': 8}\n",
    "for animal, legs in d.items():\n",
    "    print('A %s has %d legs' % (animal, legs))\n",
    "# Prints \"A person has 2 legs\", \"A cat has 4 legs\", \"A spider has 8 legs\""
   ]
  },
  {
   "cell_type": "code",
   "execution_count": null,
   "metadata": {},
   "outputs": [],
   "source": [
    "Dictionary comprehensions: These are similar to list comprehensions, but allow you to easily construct dictionaries. \n",
    "For example:"
   ]
  },
  {
   "cell_type": "code",
   "execution_count": null,
   "metadata": {},
   "outputs": [],
   "source": [
    "nums = [0, 1, 2, 3, 4]\n",
    "even_num_to_square = {x: x ** 2 for x in nums if x % 2 == 0}\n",
    "print(even_num_to_square)  # Prints \"{0: 0, 2: 4, 4: 16}\""
   ]
  },
  {
   "cell_type": "code",
   "execution_count": null,
   "metadata": {},
   "outputs": [],
   "source": [
    "SETS\n",
    "A set is an unordered collection of distinct elements. As a simple example, consider the following:"
   ]
  },
  {
   "cell_type": "code",
   "execution_count": null,
   "metadata": {},
   "outputs": [],
   "source": [
    "animals = {'cat', 'dog'}\n",
    "print('cat' in animals)   # Check if an element is in a set; prints \"True\"\n",
    "print('fish' in animals)  # prints \"False\"\n",
    "animals.add('fish')       # Add an element to a set\n",
    "print('fish' in animals)  # Prints \"True\"\n",
    "print(len(animals))       # Number of elements in a set; prints \"3\"\n",
    "animals.add('cat')        # Adding an element that is already in the set does nothing\n",
    "print(len(animals))       # Prints \"3\"\n",
    "animals.remove('cat')     # Remove an element from a set\n",
    "print(len(animals))       # Prints \"2\""
   ]
  },
  {
   "cell_type": "markdown",
   "metadata": {},
   "source": [
    "LOOPS\n",
    "Iterating over a set has the same syntax as iterating over a list; however since sets are unordered, you cannot make assumptions about the order in which you visit the elements of the set:"
   ]
  },
  {
   "cell_type": "code",
   "execution_count": null,
   "metadata": {},
   "outputs": [],
   "source": [
    "animals = {'cat', 'dog', 'fish'}\n",
    "for idx, animal in enumerate(animals):\n",
    "    print('#%d: %s' % (idx + 1, animal))\n",
    "# Prints \"#1: fish\", \"#2: dog\", \"#3: cat\""
   ]
  },
  {
   "cell_type": "markdown",
   "metadata": {},
   "source": [
    "Set comprehensions: Like lists and dictionaries, we can easily construct sets using set comprehensions:"
   ]
  },
  {
   "cell_type": "code",
   "execution_count": null,
   "metadata": {},
   "outputs": [],
   "source": [
    "from math import sqrt\n",
    "nums = {int(sqrt(x)) for x in range(30)}\n",
    "print(nums)  # Prints \"{0, 1, 2, 3, 4, 5}\""
   ]
  },
  {
   "cell_type": "markdown",
   "metadata": {},
   "source": [
    "TUPLES:\n",
    "\n",
    "Though tuples may seem similar to lists, they are often used in different situations and for different purposes. Tuples are immutable, and usually contain a heterogeneous sequence of elements that are accessed via unpacking or indexing (or even by attribute in the case of namedtuples). Lists are mutable, and their elements are usually homogeneous and are accessed by iterating over the list.A tuple is in many ways similar to a list; one of the most important differences is that tuples can be used as keys in dictionaries and as elements of sets, while lists cannot. Here is a trivial example:"
   ]
  },
  {
   "cell_type": "code",
   "execution_count": null,
   "metadata": {},
   "outputs": [],
   "source": [
    "t = 12345, 54321, 'hello!'\n",
    "print(t[0]) # Print 12345\n",
    "print(t)   # Print (12345, 54321, 'hello!')\n",
    "# Tuples may be nested:\n",
    "u = t, (1, 2, 3, 4, 5)\n",
    "print(u)   # Will print ((12345, 54321, 'hello!'), (1, 2, 3, 4, 5))\n",
    "# Tuples are immutable:\n",
    "#t[0] = 88888 # Will print -'tuple' object does not support item assignment"
   ]
  },
  {
   "cell_type": "code",
   "execution_count": null,
   "metadata": {},
   "outputs": [],
   "source": [
    "d = {(x, x + 1): x for x in range(10)}  # Create a dictionary with tuple keys\n",
    "t = (5, 6)        # Create a tuple\n",
    "print(type(t))    # Prints \"<class 'tuple'>\"\n",
    "print(d[t])       # Prints \"5\"\n",
    "print(d[(1, 2)])  # Prints \"1\""
   ]
  },
  {
   "cell_type": "code",
   "execution_count": null,
   "metadata": {},
   "outputs": [],
   "source": [
    "Functions\n",
    "\n",
    "Python functions are defined using the def keyword. For example:"
   ]
  },
  {
   "cell_type": "code",
   "execution_count": null,
   "metadata": {},
   "outputs": [],
   "source": [
    "def sign(x):\n",
    "    if x > 0:\n",
    "        return 'positive'\n",
    "    elif x < 0:\n",
    "        return 'negative'\n",
    "    else:\n",
    "        return 'zero'\n",
    "\n",
    "for x in [-1, 0, 1]:\n",
    "    print(sign(x))\n",
    "# Prints \"negative\", \"zero\", \"positive\""
   ]
  },
  {
   "cell_type": "code",
   "execution_count": null,
   "metadata": {},
   "outputs": [],
   "source": [
    "#We will often define functions to take optional keyword arguments, like this:\n",
    "def hello(name, loud=False):\n",
    "    if loud:\n",
    "        print('HELLO, %s!' % name.upper())\n",
    "    else:\n",
    "        print('Hello, %s' % name)\n",
    "\n",
    "hello('Bob') # Prints \"Hello, Bob\"\n",
    "hello('Fred', loud=True)  # Prints \"HELLO, FRED!\""
   ]
  },
  {
   "cell_type": "markdown",
   "metadata": {},
   "source": [
    "CLASSES:\n",
    "    \n",
    "The syntax for defining a class in python is very straightforward and contains all the standard features of Object Oriented Programming."
   ]
  },
  {
   "cell_type": "code",
   "execution_count": null,
   "metadata": {
    "scrolled": true
   },
   "outputs": [],
   "source": [
    "class company(object):\n",
    "    bankrupt = False\n",
    "    def financial_status(self):\n",
    "        if not self.bankrupt:\n",
    "            print(\"Healthy Financials\")            \n",
    "\n",
    "x = company() # COnstruct the instance of the company class\n",
    "x.bankrupt = True # Use the argument of class and can assign the value\n",
    "print(x.bankrupt)\n",
    "y = company()\n",
    "y.bankrupt\n",
    "print(y.bankrupt)"
   ]
  },
  {
   "cell_type": "markdown",
   "metadata": {},
   "source": [
    "READING AND WRITTING FILES "
   ]
  },
  {
   "cell_type": "code",
   "execution_count": null,
   "metadata": {},
   "outputs": [],
   "source": [
    "f = open('demo_text.txt','r') # R for read and w for write and for both r+\n",
    "print(f.name) # Prints the name of the file\n",
    "print(f.mode) # Prints the mode of the file\n",
    "f.close() # In this methods u have to explicitly close the files after use\n",
    "#If you will not close the files then you will run out of leads of maximum number of files you can open at a time\n",
    "\n",
    "with open('demo_text.txt','r') as f:\n",
    "    pass\n",
    "#     print(f.read())\n",
    "#     print(f.read(20))\n",
    "#     print(f.readline())# Read only first line\n",
    "#     print(f.readlines())# Read all lines\n",
    "    print(f.readline(),end='')#Everytime you repeat the thing it prints the new line\n",
    "#     f.seek(0)\n",
    "    print(f.readline(),end='')# And end function is useful to delete the extra space between two lines\n",
    "    "
   ]
  },
  {
   "cell_type": "code",
   "execution_count": null,
   "metadata": {},
   "outputs": [],
   "source": [
    "with open('demo2.txt','w') as f:\n",
    "    pass\n",
    "    f.write('The file text is changed now')\n",
    "    print(f.tell())\n",
    "#     f.write('The file text is converted')#Start writing from 28th character\n",
    "    f.seek(0)\n",
    "    print(f.tell())\n",
    "#     f.write('Final')# It doesnt change the entire text but only replace the first character\n",
    "    "
   ]
  },
  {
   "cell_type": "code",
   "execution_count": null,
   "metadata": {},
   "outputs": [],
   "source": [
    "#READ AND WRITE AT A TIME\n",
    "with open('demo_text.txt','r') as rf:\n",
    "    with open('demo_text_copy.txt','w') as wf:\n",
    "        for line in rf:\n",
    "            wf.write(line)\n",
    "# Assignment read and write an Image file\n",
    "#Note image reading can be done by binary mode"
   ]
  },
  {
   "cell_type": "markdown",
   "metadata": {},
   "source": [
    "MAP FUNCTION - Map takes a collection of inputs and a function and apply that function to each of the input at a time to produce the collection of output. It is helpful in saving time from writing multiple for loops. Map function is used for parallel python.\n",
    "![MAP](map_function.jpg)"
   ]
  },
  {
   "cell_type": "code",
   "execution_count": null,
   "metadata": {},
   "outputs": [],
   "source": []
  }
 ],
 "metadata": {
  "kernelspec": {
   "display_name": "Python 3",
   "language": "python",
   "name": "python3"
  },
  "language_info": {
   "codemirror_mode": {
    "name": "ipython",
    "version": 3
   },
   "file_extension": ".py",
   "mimetype": "text/x-python",
   "name": "python",
   "nbconvert_exporter": "python",
   "pygments_lexer": "ipython3",
   "version": "3.6.3"
  }
 },
 "nbformat": 4,
 "nbformat_minor": 2
}
